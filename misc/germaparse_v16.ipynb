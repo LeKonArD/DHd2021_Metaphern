{
 "cells": [
  {
   "cell_type": "code",
   "execution_count": null,
   "metadata": {},
   "outputs": [],
   "source": [
    "import pandas as pd\n",
    "import re\n",
    "import os\n",
    "from collections import Counter"
   ]
  },
  {
   "cell_type": "code",
   "execution_count": null,
   "metadata": {},
   "outputs": [],
   "source": [
    "files = [x for x in os.listdir(\"GN_V160/GN_V160_XML\") if x.startswith(\"nom\")]"
   ]
  },
  {
   "cell_type": "code",
   "execution_count": null,
   "metadata": {
    "scrolled": true
   },
   "outputs": [],
   "source": [
    "klasse = []\n",
    "words = []\n",
    "for fname in files:\n",
    "    \n",
    "    data = open(\"GN_V160/GN_V160_XML/\"+fname)\n",
    "    cls = re.sub(\"nomen.|.xml\",\"\",fname)\n",
    "    \n",
    "    if cls in [\"Tops\",\"Motiv\"]:\n",
    "        continue\n",
    "        \n",
    "    for line in data:\n",
    "        if line.startswith(\"<orthForm>\"):\n",
    "            \n",
    "            word = re.sub(\"<[^>]+>\",\"\",line)\n",
    "            klasse.append(cls)\n",
    "            words.append(word)"
   ]
  },
  {
   "cell_type": "code",
   "execution_count": null,
   "metadata": {},
   "outputs": [],
   "source": [
    "data = pd.DataFrame()\n",
    "data[\"word\"] = word\n",
    "data[\"class\"] = klasse"
   ]
  }
 ],
 "metadata": {
  "kernelspec": {
   "display_name": "gpu",
   "language": "python",
   "name": "gpu"
  },
  "language_info": {
   "codemirror_mode": {
    "name": "ipython",
    "version": 3
   },
   "file_extension": ".py",
   "mimetype": "text/x-python",
   "name": "python",
   "nbconvert_exporter": "python",
   "pygments_lexer": "ipython3",
   "version": "3.8.5"
  }
 },
 "nbformat": 4,
 "nbformat_minor": 2
}
