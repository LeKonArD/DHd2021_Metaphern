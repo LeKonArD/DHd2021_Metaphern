{
 "cells": [
  {
   "cell_type": "code",
   "execution_count": null,
   "metadata": {},
   "outputs": [],
   "source": [
    "import fasttext as ft\n",
    "import pandas as pd\n",
    "import numpy as np\n",
    "import ivis\n",
    "from sklearn.metrics import classification_report\n",
    "from sklearn.model_selection import train_test_split\n",
    "from collections import Counter\n",
    "import os\n",
    "import json"
   ]
  },
  {
   "cell_type": "code",
   "execution_count": null,
   "metadata": {},
   "outputs": [],
   "source": [
    "# Parameter and Paths\n",
    "\n",
    "fasttext_path = \"models/oscar_ft_model_dim1536_ws2.bin.bin\"\n",
    "supersense_path = \"resources/supersenses.tsv\"\n",
    "output_path = \"models/supersenser.bin\"\n",
    "weight = 0.8\n",
    "early_stoping = 20\n",
    "kNN = 30\n",
    "ivis_model = \"maaten\"\n",
    "embedding_dimensions = 10"
   ]
  },
  {
   "cell_type": "code",
   "execution_count": null,
   "metadata": {
    "scrolled": true
   },
   "outputs": [],
   "source": [
    "# Load Resources\n",
    "\n",
    "ft_model = ft.load_model(fasttext_path)\n",
    "data = pd.read_csv(supersense_path, sep=\"\\t\")"
   ]
  },
  {
   "cell_type": "code",
   "execution_count": null,
   "metadata": {},
   "outputs": [],
   "source": [
    "# data selection\n",
    "\n",
    "gps = data.groupby(\"Klasse\")\n",
    "ix = np.hstack([np.random.choice(v, 900, replace=False) for v in gps.groups.values()])"
   ]
  },
  {
   "cell_type": "code",
   "execution_count": null,
   "metadata": {},
   "outputs": [],
   "source": [
    "# build class to integer dictionary\n",
    "\n",
    "l_dict = {}\n",
    "i = 0\n",
    "for c in set(data[\"Klasse\"]):\n",
    "    l_dict[c] = i\n",
    "    i+=1\n",
    "    \n",
    "with open(\"resources/supersense_dict.json\",\"w\") as f:\n",
    "    json.dump(l_dict,f)"
   ]
  },
  {
   "cell_type": "code",
   "execution_count": null,
   "metadata": {},
   "outputs": [],
   "source": [
    "# train/test split\n",
    "\n",
    "X = data[\"wort\"]\n",
    "Y = np.array([l_dict[x] for x in data[\"Klasse\"]])\n",
    "X_train, X_test, y_train, y_test = train_test_split(X,Y,test_size=0.1,stratify=Y)"
   ]
  },
  {
   "cell_type": "code",
   "execution_count": null,
   "metadata": {},
   "outputs": [],
   "source": [
    "# to fasttext vectors\n",
    "\n",
    "X_train_vec = np.stack([ft_model[str(x)] for x in X_train])\n",
    "X_test_vec = np.stack([ft_model[str(x)] for x in X_test])\n",
    "X_all = np.concatenate([X_train_vec,X_test_vec])\n",
    "Y_semi = np.concatenate([y_train,np.array([-1]*len(X_test))])"
   ]
  },
  {
   "cell_type": "code",
   "execution_count": null,
   "metadata": {
    "scrolled": true
   },
   "outputs": [],
   "source": [
    "# init model\n",
    "model = ivis.Ivis(n_epochs_without_progress=early_stoping, \n",
    "                  supervision_weight=weight,\n",
    "                  k=kNN,\n",
    "                  model=ivis_model,\n",
    "                  embedding_dims=embedding_dimensions)"
   ]
  },
  {
   "cell_type": "code",
   "execution_count": null,
   "metadata": {},
   "outputs": [],
   "source": [
    "# fit model\n",
    "model.fit(X_all,np.array(Y_semi))"
   ]
  },
  {
   "cell_type": "code",
   "execution_count": null,
   "metadata": {},
   "outputs": [],
   "source": [
    "# evaluate\n",
    "\n",
    "y_pred = model.score_samples(X_test_vec)\n",
    "print(classification_report(np.argmax(y_pred, axis=1), y_test))"
   ]
  },
  {
   "cell_type": "code",
   "execution_count": null,
   "metadata": {},
   "outputs": [],
   "source": [
    "# save\n",
    "model.save_model(output_path)"
   ]
  }
 ],
 "metadata": {
  "kernelspec": {
   "display_name": "gpu",
   "language": "python",
   "name": "gpu"
  },
  "language_info": {
   "codemirror_mode": {
    "name": "ipython",
    "version": 3
   },
   "file_extension": ".py",
   "mimetype": "text/x-python",
   "name": "python",
   "nbconvert_exporter": "python",
   "pygments_lexer": "ipython3",
   "version": "3.8.5"
  }
 },
 "nbformat": 4,
 "nbformat_minor": 2
}
