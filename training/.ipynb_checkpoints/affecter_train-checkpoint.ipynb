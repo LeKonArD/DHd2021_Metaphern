{
 "cells": [
  {
   "cell_type": "code",
   "execution_count": 3,
   "metadata": {},
   "outputs": [],
   "source": [
    "import pandas as pd\n",
    "import re\n",
    "import numpy as np\n",
    "import fasttext as ft\n",
    "from sklearn.neural_network import MLPRegressor\n",
    "from scipy.stats import pearsonr\n",
    "from sklearn.metrics import mean_squared_error\n",
    "from sklearn.model_selection import  train_test_split"
   ]
  },
  {
   "cell_type": "code",
   "execution_count": null,
   "metadata": {},
   "outputs": [],
   "source": [
    "# Parameter and Paths\n",
    "fasttext_path = \"models/oscar_ft_model_dim1536_ws2.bin.bin\"\n",
    "affects_path = \"resources/affective_norms.txt\""
   ]
  },
  {
   "cell_type": "code",
   "execution_count": 2,
   "metadata": {},
   "outputs": [],
   "source": [
    "# cleaning function\n",
    "\n",
    "def to_text(x):\n",
    "    \n",
    "    x = re.sub(\"\\\"|\\'|\\[|\\]|\\,\",\"\",x)\n",
    "    \n",
    "    return x"
   ]
  },
  {
   "cell_type": "code",
   "execution_count": 3,
   "metadata": {},
   "outputs": [
    {
     "name": "stderr",
     "output_type": "stream",
     "text": [
      "Warning : `load_model` does not return WordVectorModel or SupervisedModel any more, but a `FastText` object which is very similar.\n"
     ]
    }
   ],
   "source": [
    "# Load Resources\n",
    "ft_model = ft.load_model(fasttext_path)\n",
    "data = pd.read_csv(affects_path, sep=\"\\t\")"
   ]
  },
  {
   "cell_type": "code",
   "execution_count": 12,
   "metadata": {
    "scrolled": true
   },
   "outputs": [],
   "source": [
    "# train test split\n",
    "\n",
    "X_text = [ft_model[to_text(str(x))] for x in data[\"Word\"]][:10000]\n",
    "Y_scores = np.array(data.loc[:len(X_text)-1,[\"AbstConc\",\"Arou\",\"IMG\",\"Val\"]])\n",
    "X_train, X_test, y_train, y_test = train_test_split(X_text, Y_scores, test_size=0.1, random_state=42)"
   ]
  },
  {
   "cell_type": "code",
   "execution_count": 13,
   "metadata": {},
   "outputs": [],
   "source": [
    "# init model\n",
    "\n",
    "mlp = MLPRegressor(hidden_layer_sizes=(200,), random_state=1, max_iter=1000)"
   ]
  },
  {
   "cell_type": "code",
   "execution_count": 14,
   "metadata": {
    "scrolled": true
   },
   "outputs": [
    {
     "data": {
      "text/plain": [
       "MLPRegressor(hidden_layer_sizes=(200,), max_iter=1000, random_state=1)"
      ]
     },
     "execution_count": 14,
     "metadata": {},
     "output_type": "execute_result"
    }
   ],
   "source": [
    "mlp.fit(X_train, y_train)"
   ]
  },
  {
   "cell_type": "code",
   "execution_count": 15,
   "metadata": {},
   "outputs": [
    {
     "data": {
      "text/plain": [
       "0.8191755260582454"
      ]
     },
     "execution_count": 15,
     "metadata": {},
     "output_type": "execute_result"
    }
   ],
   "source": [
    "mlp.score(X_test, y_test)"
   ]
  },
  {
   "cell_type": "code",
   "execution_count": 9,
   "metadata": {},
   "outputs": [],
   "source": [
    "import pickle as pkl"
   ]
  },
  {
   "cell_type": "code",
   "execution_count": 16,
   "metadata": {},
   "outputs": [],
   "source": [
    "from joblib import dump, load"
   ]
  },
  {
   "cell_type": "code",
   "execution_count": 10,
   "metadata": {
    "scrolled": true
   },
   "outputs": [
    {
     "ename": "EOFError",
     "evalue": "",
     "output_type": "error",
     "traceback": [
      "\u001b[0;31m---------------------------------------------------------------------------\u001b[0m",
      "\u001b[0;31mEOFError\u001b[0m                                  Traceback (most recent call last)",
      "\u001b[0;32m<ipython-input-10-0e2d65aafa26>\u001b[0m in \u001b[0;36m<module>\u001b[0;34m\u001b[0m\n\u001b[0;32m----> 1\u001b[0;31m \u001b[0mmlp\u001b[0m \u001b[0;34m=\u001b[0m \u001b[0mload\u001b[0m\u001b[0;34m(\u001b[0m\u001b[0;34m'aff_fasttext.joblib'\u001b[0m\u001b[0;34m)\u001b[0m\u001b[0;34m\u001b[0m\u001b[0;34m\u001b[0m\u001b[0m\n\u001b[0m",
      "\u001b[0;32m~/anaconda3/envs/gpu/lib/python3.8/site-packages/joblib/numpy_pickle.py\u001b[0m in \u001b[0;36mload\u001b[0;34m(filename, mmap_mode)\u001b[0m\n\u001b[1;32m    583\u001b[0m                     \u001b[0;32mreturn\u001b[0m \u001b[0mload_compatibility\u001b[0m\u001b[0;34m(\u001b[0m\u001b[0mfobj\u001b[0m\u001b[0;34m)\u001b[0m\u001b[0;34m\u001b[0m\u001b[0;34m\u001b[0m\u001b[0m\n\u001b[1;32m    584\u001b[0m \u001b[0;34m\u001b[0m\u001b[0m\n\u001b[0;32m--> 585\u001b[0;31m                 \u001b[0mobj\u001b[0m \u001b[0;34m=\u001b[0m \u001b[0m_unpickle\u001b[0m\u001b[0;34m(\u001b[0m\u001b[0mfobj\u001b[0m\u001b[0;34m,\u001b[0m \u001b[0mfilename\u001b[0m\u001b[0;34m,\u001b[0m \u001b[0mmmap_mode\u001b[0m\u001b[0;34m)\u001b[0m\u001b[0;34m\u001b[0m\u001b[0;34m\u001b[0m\u001b[0m\n\u001b[0m\u001b[1;32m    586\u001b[0m     \u001b[0;32mreturn\u001b[0m \u001b[0mobj\u001b[0m\u001b[0;34m\u001b[0m\u001b[0;34m\u001b[0m\u001b[0m\n",
      "\u001b[0;32m~/anaconda3/envs/gpu/lib/python3.8/site-packages/joblib/numpy_pickle.py\u001b[0m in \u001b[0;36m_unpickle\u001b[0;34m(fobj, filename, mmap_mode)\u001b[0m\n\u001b[1;32m    502\u001b[0m     \u001b[0mobj\u001b[0m \u001b[0;34m=\u001b[0m \u001b[0;32mNone\u001b[0m\u001b[0;34m\u001b[0m\u001b[0;34m\u001b[0m\u001b[0m\n\u001b[1;32m    503\u001b[0m     \u001b[0;32mtry\u001b[0m\u001b[0;34m:\u001b[0m\u001b[0;34m\u001b[0m\u001b[0;34m\u001b[0m\u001b[0m\n\u001b[0;32m--> 504\u001b[0;31m         \u001b[0mobj\u001b[0m \u001b[0;34m=\u001b[0m \u001b[0munpickler\u001b[0m\u001b[0;34m.\u001b[0m\u001b[0mload\u001b[0m\u001b[0;34m(\u001b[0m\u001b[0;34m)\u001b[0m\u001b[0;34m\u001b[0m\u001b[0;34m\u001b[0m\u001b[0m\n\u001b[0m\u001b[1;32m    505\u001b[0m         \u001b[0;32mif\u001b[0m \u001b[0munpickler\u001b[0m\u001b[0;34m.\u001b[0m\u001b[0mcompat_mode\u001b[0m\u001b[0;34m:\u001b[0m\u001b[0;34m\u001b[0m\u001b[0;34m\u001b[0m\u001b[0m\n\u001b[1;32m    506\u001b[0m             warnings.warn(\"The file '%s' has been generated with a \"\n",
      "\u001b[0;32m~/anaconda3/envs/gpu/lib/python3.8/pickle.py\u001b[0m in \u001b[0;36mload\u001b[0;34m(self)\u001b[0m\n\u001b[1;32m   1206\u001b[0m                 \u001b[0mkey\u001b[0m \u001b[0;34m=\u001b[0m \u001b[0mread\u001b[0m\u001b[0;34m(\u001b[0m\u001b[0;36m1\u001b[0m\u001b[0;34m)\u001b[0m\u001b[0;34m\u001b[0m\u001b[0;34m\u001b[0m\u001b[0m\n\u001b[1;32m   1207\u001b[0m                 \u001b[0;32mif\u001b[0m \u001b[0;32mnot\u001b[0m \u001b[0mkey\u001b[0m\u001b[0;34m:\u001b[0m\u001b[0;34m\u001b[0m\u001b[0;34m\u001b[0m\u001b[0m\n\u001b[0;32m-> 1208\u001b[0;31m                     \u001b[0;32mraise\u001b[0m \u001b[0mEOFError\u001b[0m\u001b[0;34m\u001b[0m\u001b[0;34m\u001b[0m\u001b[0m\n\u001b[0m\u001b[1;32m   1209\u001b[0m                 \u001b[0;32massert\u001b[0m \u001b[0misinstance\u001b[0m\u001b[0;34m(\u001b[0m\u001b[0mkey\u001b[0m\u001b[0;34m,\u001b[0m \u001b[0mbytes_types\u001b[0m\u001b[0;34m)\u001b[0m\u001b[0;34m\u001b[0m\u001b[0;34m\u001b[0m\u001b[0m\n\u001b[1;32m   1210\u001b[0m                 \u001b[0mdispatch\u001b[0m\u001b[0;34m[\u001b[0m\u001b[0mkey\u001b[0m\u001b[0;34m[\u001b[0m\u001b[0;36m0\u001b[0m\u001b[0;34m]\u001b[0m\u001b[0;34m]\u001b[0m\u001b[0;34m(\u001b[0m\u001b[0mself\u001b[0m\u001b[0;34m)\u001b[0m\u001b[0;34m\u001b[0m\u001b[0;34m\u001b[0m\u001b[0m\n",
      "\u001b[0;31mEOFError\u001b[0m: "
     ]
    }
   ],
   "source": [
    "mlp = load('aff_fasttext.joblib')"
   ]
  },
  {
   "cell_type": "code",
   "execution_count": 17,
   "metadata": {},
   "outputs": [
    {
     "data": {
      "text/plain": [
       "['aff_fasttext.bin']"
      ]
     },
     "execution_count": 17,
     "metadata": {},
     "output_type": "execute_result"
    }
   ],
   "source": [
    "dump(mlp, 'aff_fasttext.bin')"
   ]
  },
  {
   "cell_type": "code",
   "execution_count": 21,
   "metadata": {},
   "outputs": [],
   "source": [
    "from tqdm.notebook import tqdm"
   ]
  },
  {
   "cell_type": "code",
   "execution_count": 56,
   "metadata": {
    "scrolled": true
   },
   "outputs": [],
   "source": [
    "frame2 = pd.read_csv(\"Feedback Voting.csv\",sep=\"\\t\")"
   ]
  },
  {
   "cell_type": "code",
   "execution_count": 57,
   "metadata": {},
   "outputs": [],
   "source": [
    "frame2 = frame2.drop(columns=[\"Metapher_sw\",\"Metapher_fj\",\"Metapher_mk\",\"Metonymie_sw\",\"Metonymie_fj\",\"Metonymie_mk\",\"Metapher Summe\",\"Metonymie Summe\"])"
   ]
  },
  {
   "cell_type": "code",
   "execution_count": 58,
   "metadata": {},
   "outputs": [],
   "source": [
    "frame2 = frame2.rename(columns={\"Metapher Konsens\":\"Metapher\",\"Metonymie Konsens\":\"Metonymie\"})"
   ]
  },
  {
   "cell_type": "code",
   "execution_count": 59,
   "metadata": {},
   "outputs": [],
   "source": [
    "frame2[\"Titel\"] = \"\"\n",
    "frame2[\"Metonymie\"] = \"\"\n",
    "frame2[\"Name\"] = \"\"\n",
    "frame2[\"quelle\"] = \"Konsens 2\"\n",
    "frame2[\"w1\"] = frame2[\"genitiv_konstruktion\"].apply(lambda x: x.split(\" \")[0])\n",
    "frame2[\"w2\"] = frame2[\"genitiv_konstruktion\"].apply(lambda x: x.split(\" \")[-1])"
   ]
  },
  {
   "cell_type": "code",
   "execution_count": 60,
   "metadata": {},
   "outputs": [],
   "source": [
    "frame1 = pd.read_csv(\"full+sense+affect.tsv\", sep=\"\\t\", index_col=0)"
   ]
  },
  {
   "cell_type": "code",
   "execution_count": 61,
   "metadata": {},
   "outputs": [],
   "source": [
    "frame = pd.concat([frame1,frame2], axis=0)"
   ]
  },
  {
   "cell_type": "code",
   "execution_count": 18,
   "metadata": {
    "scrolled": true
   },
   "outputs": [],
   "source": [
    "frame = pd.read_csv(\"gen_mlk_fig_spr_predict+super.tsv\", sep=\"\\t\", index_col=0)"
   ]
  },
  {
   "cell_type": "code",
   "execution_count": 19,
   "metadata": {
    "scrolled": true
   },
   "outputs": [
    {
     "data": {
      "text/html": [
       "<div>\n",
       "<style scoped>\n",
       "    .dataframe tbody tr th:only-of-type {\n",
       "        vertical-align: middle;\n",
       "    }\n",
       "\n",
       "    .dataframe tbody tr th {\n",
       "        vertical-align: top;\n",
       "    }\n",
       "\n",
       "    .dataframe thead th {\n",
       "        text-align: right;\n",
       "    }\n",
       "</style>\n",
       "<table border=\"1\" class=\"dataframe\">\n",
       "  <thead>\n",
       "    <tr style=\"text-align: right;\">\n",
       "      <th></th>\n",
       "      <th>Unnamed: 0.1</th>\n",
       "      <th>genitiv_konstruktion</th>\n",
       "      <th>kontext</th>\n",
       "      <th>ID</th>\n",
       "      <th>w1</th>\n",
       "      <th>w2</th>\n",
       "      <th>supersenser_0</th>\n",
       "      <th>supersenser_1</th>\n",
       "      <th>supersenser_2</th>\n",
       "      <th>supersenser_3</th>\n",
       "      <th>...</th>\n",
       "      <th>supersenser_0.1</th>\n",
       "      <th>supersenser_1.1</th>\n",
       "      <th>supersenser_2.1</th>\n",
       "      <th>supersenser_3.1</th>\n",
       "      <th>supersenser_4.1</th>\n",
       "      <th>supersenser_5.1</th>\n",
       "      <th>supersenser_6.1</th>\n",
       "      <th>supersenser_7.1</th>\n",
       "      <th>supersenser_8.1</th>\n",
       "      <th>supersenser_9.1</th>\n",
       "    </tr>\n",
       "  </thead>\n",
       "  <tbody>\n",
       "    <tr>\n",
       "      <th>0</th>\n",
       "      <td>0</td>\n",
       "      <td>Mund des röchelnden Banditen</td>\n",
       "      <td>###Wie aus dem Hohlweg Hülferufen klang;\\nWie ...</td>\n",
       "      <td>l0020169.txt</td>\n",
       "      <td>Mund</td>\n",
       "      <td>Banditen</td>\n",
       "      <td>-12.449068</td>\n",
       "      <td>16.281939</td>\n",
       "      <td>-11.241486</td>\n",
       "      <td>6.675114</td>\n",
       "      <td>...</td>\n",
       "      <td>20.622215</td>\n",
       "      <td>7.387614</td>\n",
       "      <td>-10.765052</td>\n",
       "      <td>1.777130</td>\n",
       "      <td>-22.567417</td>\n",
       "      <td>31.093182</td>\n",
       "      <td>6.734971</td>\n",
       "      <td>-13.364339</td>\n",
       "      <td>-1.992805</td>\n",
       "      <td>-16.592121</td>\n",
       "    </tr>\n",
       "    <tr>\n",
       "      <th>1</th>\n",
       "      <td>1</td>\n",
       "      <td>Hand des Mörders</td>\n",
       "      <td>###weißt, wie wir in der Campagna ritten,\\nWie...</td>\n",
       "      <td>l0020169.txt</td>\n",
       "      <td>Hand</td>\n",
       "      <td>Mörders</td>\n",
       "      <td>-16.334610</td>\n",
       "      <td>12.250860</td>\n",
       "      <td>-15.578655</td>\n",
       "      <td>11.949934</td>\n",
       "      <td>...</td>\n",
       "      <td>21.126543</td>\n",
       "      <td>6.256617</td>\n",
       "      <td>-19.244587</td>\n",
       "      <td>4.333963</td>\n",
       "      <td>-29.366735</td>\n",
       "      <td>19.278040</td>\n",
       "      <td>-13.377811</td>\n",
       "      <td>-1.048816</td>\n",
       "      <td>-4.060271</td>\n",
       "      <td>-11.961693</td>\n",
       "    </tr>\n",
       "    <tr>\n",
       "      <th>2</th>\n",
       "      <td>2</td>\n",
       "      <td>Werkzeug dieser Höllenthat</td>\n",
       "      <td>###Mutter Schoos, der dich getragen,\\nBei ihre...</td>\n",
       "      <td>l0020169.txt</td>\n",
       "      <td>Werkzeug</td>\n",
       "      <td>Höllenthat</td>\n",
       "      <td>-12.462503</td>\n",
       "      <td>-11.280316</td>\n",
       "      <td>4.226968</td>\n",
       "      <td>9.851651</td>\n",
       "      <td>...</td>\n",
       "      <td>5.453100</td>\n",
       "      <td>-5.921415</td>\n",
       "      <td>3.839832</td>\n",
       "      <td>-5.545960</td>\n",
       "      <td>-24.702826</td>\n",
       "      <td>18.958019</td>\n",
       "      <td>-37.999504</td>\n",
       "      <td>-0.435136</td>\n",
       "      <td>-13.231165</td>\n",
       "      <td>-25.817455</td>\n",
       "    </tr>\n",
       "    <tr>\n",
       "      <th>3</th>\n",
       "      <td>3</td>\n",
       "      <td>Hochgefühl der Lust</td>\n",
       "      <td>###Leib umfangen,\\nSie küßte mich, als ich von...</td>\n",
       "      <td>l0020169.txt</td>\n",
       "      <td>Hochgefühl</td>\n",
       "      <td>Lust</td>\n",
       "      <td>-3.039791</td>\n",
       "      <td>3.775304</td>\n",
       "      <td>-1.387659</td>\n",
       "      <td>-8.354455</td>\n",
       "      <td>...</td>\n",
       "      <td>-6.868844</td>\n",
       "      <td>-5.031555</td>\n",
       "      <td>-0.897522</td>\n",
       "      <td>-1.763056</td>\n",
       "      <td>-8.427630</td>\n",
       "      <td>14.740567</td>\n",
       "      <td>1.650468</td>\n",
       "      <td>3.950479</td>\n",
       "      <td>0.034862</td>\n",
       "      <td>1.751651</td>\n",
       "    </tr>\n",
       "    <tr>\n",
       "      <th>4</th>\n",
       "      <td>4</td>\n",
       "      <td>Gebuscht der Brauen</td>\n",
       "      <td>###mir stand —\\nDen weißen Arm erhoben — das G...</td>\n",
       "      <td>l0020169.txt</td>\n",
       "      <td>Gebuscht</td>\n",
       "      <td>Brauen</td>\n",
       "      <td>7.708554</td>\n",
       "      <td>-2.983548</td>\n",
       "      <td>4.824840</td>\n",
       "      <td>7.563175</td>\n",
       "      <td>...</td>\n",
       "      <td>1.884007</td>\n",
       "      <td>10.970037</td>\n",
       "      <td>15.535578</td>\n",
       "      <td>-8.435513</td>\n",
       "      <td>-6.866509</td>\n",
       "      <td>-19.579123</td>\n",
       "      <td>12.671397</td>\n",
       "      <td>-8.429327</td>\n",
       "      <td>3.754439</td>\n",
       "      <td>9.436239</td>\n",
       "    </tr>\n",
       "    <tr>\n",
       "      <th>...</th>\n",
       "      <td>...</td>\n",
       "      <td>...</td>\n",
       "      <td>...</td>\n",
       "      <td>...</td>\n",
       "      <td>...</td>\n",
       "      <td>...</td>\n",
       "      <td>...</td>\n",
       "      <td>...</td>\n",
       "      <td>...</td>\n",
       "      <td>...</td>\n",
       "      <td>...</td>\n",
       "      <td>...</td>\n",
       "      <td>...</td>\n",
       "      <td>...</td>\n",
       "      <td>...</td>\n",
       "      <td>...</td>\n",
       "      <td>...</td>\n",
       "      <td>...</td>\n",
       "      <td>...</td>\n",
       "      <td>...</td>\n",
       "      <td>...</td>\n",
       "    </tr>\n",
       "    <tr>\n",
       "      <th>5295</th>\n",
       "      <td>5295</td>\n",
       "      <td>Silberglanz der Sterne</td>\n",
       "      <td>###noch in uns der Keim der Erde lag,\\nVon Ewi...</td>\n",
       "      <td>l00270580.txt</td>\n",
       "      <td>Silberglanz</td>\n",
       "      <td>Sterne</td>\n",
       "      <td>-6.775403</td>\n",
       "      <td>-1.854375</td>\n",
       "      <td>5.722345</td>\n",
       "      <td>0.381913</td>\n",
       "      <td>...</td>\n",
       "      <td>9.991711</td>\n",
       "      <td>10.789911</td>\n",
       "      <td>-1.942554</td>\n",
       "      <td>-8.009349</td>\n",
       "      <td>0.954613</td>\n",
       "      <td>7.369104</td>\n",
       "      <td>20.038372</td>\n",
       "      <td>-2.520092</td>\n",
       "      <td>0.035562</td>\n",
       "      <td>-16.285530</td>\n",
       "    </tr>\n",
       "    <tr>\n",
       "      <th>5296</th>\n",
       "      <td>5296</td>\n",
       "      <td>Klang der Sphären</td>\n",
       "      <td>###her:\\nDie ew'gen Sterne sprechen mit dem Me...</td>\n",
       "      <td>l00270580.txt</td>\n",
       "      <td>Klang</td>\n",
       "      <td>Sphären</td>\n",
       "      <td>4.175107</td>\n",
       "      <td>2.952331</td>\n",
       "      <td>-7.502730</td>\n",
       "      <td>-9.138515</td>\n",
       "      <td>...</td>\n",
       "      <td>0.316299</td>\n",
       "      <td>6.120955</td>\n",
       "      <td>2.812529</td>\n",
       "      <td>-19.207472</td>\n",
       "      <td>-4.779900</td>\n",
       "      <td>-0.233042</td>\n",
       "      <td>-1.488213</td>\n",
       "      <td>0.508939</td>\n",
       "      <td>-6.146500</td>\n",
       "      <td>0.715690</td>\n",
       "    </tr>\n",
       "    <tr>\n",
       "      <th>5297</th>\n",
       "      <td>5297</td>\n",
       "      <td>Zaubersang der Wogen</td>\n",
       "      <td>###Da jauchzen wir und hüpfen in die Höh';\\nDe...</td>\n",
       "      <td>l00270580.txt</td>\n",
       "      <td>Zaubersang</td>\n",
       "      <td>Wogen</td>\n",
       "      <td>10.389238</td>\n",
       "      <td>10.857550</td>\n",
       "      <td>8.099211</td>\n",
       "      <td>-9.128633</td>\n",
       "      <td>...</td>\n",
       "      <td>13.617758</td>\n",
       "      <td>14.678090</td>\n",
       "      <td>10.333622</td>\n",
       "      <td>5.958462</td>\n",
       "      <td>4.303414</td>\n",
       "      <td>-8.409082</td>\n",
       "      <td>4.303331</td>\n",
       "      <td>-2.417928</td>\n",
       "      <td>-6.520422</td>\n",
       "      <td>-5.629939</td>\n",
       "    </tr>\n",
       "    <tr>\n",
       "      <th>5298</th>\n",
       "      <td>5298</td>\n",
       "      <td>Welt der Menschen</td>\n",
       "      <td>###alte Windesbraut redet auch darein,\\nWill a...</td>\n",
       "      <td>l00270580.txt</td>\n",
       "      <td>Welt</td>\n",
       "      <td>Menschen</td>\n",
       "      <td>4.943958</td>\n",
       "      <td>-0.502833</td>\n",
       "      <td>-11.905156</td>\n",
       "      <td>1.247485</td>\n",
       "      <td>...</td>\n",
       "      <td>-8.522528</td>\n",
       "      <td>15.735208</td>\n",
       "      <td>-7.292505</td>\n",
       "      <td>8.613425</td>\n",
       "      <td>-7.906993</td>\n",
       "      <td>-1.654968</td>\n",
       "      <td>-4.604799</td>\n",
       "      <td>-16.602583</td>\n",
       "      <td>4.681283</td>\n",
       "      <td>13.645138</td>\n",
       "    </tr>\n",
       "    <tr>\n",
       "      <th>5299</th>\n",
       "      <td>5299</td>\n",
       "      <td>Hüter deiner Seele</td>\n",
       "      <td>###, traun,\\nAuch keiner von der Hirtengilde!\\...</td>\n",
       "      <td>l00130124.txt</td>\n",
       "      <td>Hüter</td>\n",
       "      <td>Seele</td>\n",
       "      <td>-6.780809</td>\n",
       "      <td>0.446796</td>\n",
       "      <td>8.560143</td>\n",
       "      <td>0.575770</td>\n",
       "      <td>...</td>\n",
       "      <td>-15.681319</td>\n",
       "      <td>-4.969412</td>\n",
       "      <td>10.520388</td>\n",
       "      <td>-14.329912</td>\n",
       "      <td>5.023382</td>\n",
       "      <td>-18.114714</td>\n",
       "      <td>-4.149579</td>\n",
       "      <td>11.700926</td>\n",
       "      <td>-14.402658</td>\n",
       "      <td>-4.756928</td>\n",
       "    </tr>\n",
       "  </tbody>\n",
       "</table>\n",
       "<p>5300 rows × 42 columns</p>\n",
       "</div>"
      ],
      "text/plain": [
       "      Unnamed: 0.1          genitiv_konstruktion  \\\n",
       "0                0  Mund des röchelnden Banditen   \n",
       "1                1              Hand des Mörders   \n",
       "2                2    Werkzeug dieser Höllenthat   \n",
       "3                3           Hochgefühl der Lust   \n",
       "4                4           Gebuscht der Brauen   \n",
       "...            ...                           ...   \n",
       "5295          5295        Silberglanz der Sterne   \n",
       "5296          5296             Klang der Sphären   \n",
       "5297          5297          Zaubersang der Wogen   \n",
       "5298          5298             Welt der Menschen   \n",
       "5299          5299            Hüter deiner Seele   \n",
       "\n",
       "                                                kontext             ID  \\\n",
       "0     ###Wie aus dem Hohlweg Hülferufen klang;\\nWie ...   l0020169.txt   \n",
       "1     ###weißt, wie wir in der Campagna ritten,\\nWie...   l0020169.txt   \n",
       "2     ###Mutter Schoos, der dich getragen,\\nBei ihre...   l0020169.txt   \n",
       "3     ###Leib umfangen,\\nSie küßte mich, als ich von...   l0020169.txt   \n",
       "4     ###mir stand —\\nDen weißen Arm erhoben — das G...   l0020169.txt   \n",
       "...                                                 ...            ...   \n",
       "5295  ###noch in uns der Keim der Erde lag,\\nVon Ewi...  l00270580.txt   \n",
       "5296  ###her:\\nDie ew'gen Sterne sprechen mit dem Me...  l00270580.txt   \n",
       "5297  ###Da jauchzen wir und hüpfen in die Höh';\\nDe...  l00270580.txt   \n",
       "5298  ###alte Windesbraut redet auch darein,\\nWill a...  l00270580.txt   \n",
       "5299  ###, traun,\\nAuch keiner von der Hirtengilde!\\...  l00130124.txt   \n",
       "\n",
       "               w1          w2  supersenser_0  supersenser_1  supersenser_2  \\\n",
       "0            Mund    Banditen     -12.449068      16.281939     -11.241486   \n",
       "1            Hand     Mörders     -16.334610      12.250860     -15.578655   \n",
       "2        Werkzeug  Höllenthat     -12.462503     -11.280316       4.226968   \n",
       "3      Hochgefühl        Lust      -3.039791       3.775304      -1.387659   \n",
       "4        Gebuscht      Brauen       7.708554      -2.983548       4.824840   \n",
       "...           ...         ...            ...            ...            ...   \n",
       "5295  Silberglanz      Sterne      -6.775403      -1.854375       5.722345   \n",
       "5296        Klang     Sphären       4.175107       2.952331      -7.502730   \n",
       "5297   Zaubersang       Wogen      10.389238      10.857550       8.099211   \n",
       "5298         Welt    Menschen       4.943958      -0.502833     -11.905156   \n",
       "5299        Hüter       Seele      -6.780809       0.446796       8.560143   \n",
       "\n",
       "      supersenser_3  ...  supersenser_0.1  supersenser_1.1  supersenser_2.1  \\\n",
       "0          6.675114  ...        20.622215         7.387614       -10.765052   \n",
       "1         11.949934  ...        21.126543         6.256617       -19.244587   \n",
       "2          9.851651  ...         5.453100        -5.921415         3.839832   \n",
       "3         -8.354455  ...        -6.868844        -5.031555        -0.897522   \n",
       "4          7.563175  ...         1.884007        10.970037        15.535578   \n",
       "...             ...  ...              ...              ...              ...   \n",
       "5295       0.381913  ...         9.991711        10.789911        -1.942554   \n",
       "5296      -9.138515  ...         0.316299         6.120955         2.812529   \n",
       "5297      -9.128633  ...        13.617758        14.678090        10.333622   \n",
       "5298       1.247485  ...        -8.522528        15.735208        -7.292505   \n",
       "5299       0.575770  ...       -15.681319        -4.969412        10.520388   \n",
       "\n",
       "      supersenser_3.1  supersenser_4.1  supersenser_5.1  supersenser_6.1  \\\n",
       "0            1.777130       -22.567417        31.093182         6.734971   \n",
       "1            4.333963       -29.366735        19.278040       -13.377811   \n",
       "2           -5.545960       -24.702826        18.958019       -37.999504   \n",
       "3           -1.763056        -8.427630        14.740567         1.650468   \n",
       "4           -8.435513        -6.866509       -19.579123        12.671397   \n",
       "...               ...              ...              ...              ...   \n",
       "5295        -8.009349         0.954613         7.369104        20.038372   \n",
       "5296       -19.207472        -4.779900        -0.233042        -1.488213   \n",
       "5297         5.958462         4.303414        -8.409082         4.303331   \n",
       "5298         8.613425        -7.906993        -1.654968        -4.604799   \n",
       "5299       -14.329912         5.023382       -18.114714        -4.149579   \n",
       "\n",
       "      supersenser_7.1  supersenser_8.1  supersenser_9.1  \n",
       "0          -13.364339        -1.992805       -16.592121  \n",
       "1           -1.048816        -4.060271       -11.961693  \n",
       "2           -0.435136       -13.231165       -25.817455  \n",
       "3            3.950479         0.034862         1.751651  \n",
       "4           -8.429327         3.754439         9.436239  \n",
       "...               ...              ...              ...  \n",
       "5295        -2.520092         0.035562       -16.285530  \n",
       "5296         0.508939        -6.146500         0.715690  \n",
       "5297        -2.417928        -6.520422        -5.629939  \n",
       "5298       -16.602583         4.681283        13.645138  \n",
       "5299        11.700926       -14.402658        -4.756928  \n",
       "\n",
       "[5300 rows x 42 columns]"
      ]
     },
     "execution_count": 19,
     "metadata": {},
     "output_type": "execute_result"
    }
   ],
   "source": [
    "frame"
   ]
  },
  {
   "cell_type": "code",
   "execution_count": 22,
   "metadata": {
    "scrolled": true
   },
   "outputs": [
    {
     "data": {
      "application/vnd.jupyter.widget-view+json": {
       "model_id": "a7d59c19e2a640adb110a9b015601fd3",
       "version_major": 2,
       "version_minor": 0
      },
      "text/plain": [
       "HBox(children=(HTML(value=''), FloatProgress(value=0.0, max=5300.0), HTML(value='')))"
      ]
     },
     "metadata": {},
     "output_type": "display_data"
    },
    {
     "name": "stdout",
     "output_type": "stream",
     "text": [
      "\n"
     ]
    }
   ],
   "source": [
    "w1_abs = []\n",
    "w1_aro = []\n",
    "w1_img = []\n",
    "w1_val = []\n",
    "\n",
    "w2_abs = []\n",
    "w2_aro = []\n",
    "w2_img = []\n",
    "w2_val = []\n",
    "\n",
    "for index, row in tqdm(frame.iterrows(),total=frame.shape[0]):\n",
    "    \n",
    "    info = mlp.predict([ft_model[row[\"w1\"]]])[0]\n",
    "    \n",
    "    w1_abs.append(info[0])\n",
    "    w1_aro.append(info[1])\n",
    "    w1_img.append(info[2])\n",
    "    w1_val.append(info[3])\n",
    "    \n",
    "    info = mlp.predict([ft_model[row[\"w2\"]]])[0]\n",
    "    \n",
    "    w2_abs.append(info[0])\n",
    "    w2_aro.append(info[1])\n",
    "    w2_img.append(info[2])\n",
    "    w2_val.append(info[3])"
   ]
  },
  {
   "cell_type": "code",
   "execution_count": 23,
   "metadata": {},
   "outputs": [],
   "source": [
    "frame[\"1_abs\"] = w1_abs\n",
    "frame[\"w1_aro\"] = w1_aro\n",
    "frame[\"w1_img\"] = w1_img\n",
    "frame[\"w1_val\"] = w1_val\n",
    "\n",
    "frame[\"w2_abs\"] = w2_abs\n",
    "frame[\"w2_aro\"] = w2_aro\n",
    "frame[\"w2_img\"] = w2_img\n",
    "frame[\"w2_val\"] = w2_val\n",
    "\n",
    "frame[\"abs_diff\"] = frame[\"1_abs\"]-frame[\"w2_abs\"]\n",
    "frame[\"aro_diff\"] = frame[\"w1_aro\"]-frame[\"w2_aro\"]\n",
    "frame[\"img_diff\"] = frame[\"w1_img\"]-frame[\"w2_img\"]\n",
    "frame[\"val_diff\"] = frame[\"w1_val\"]-frame[\"w2_val\"]"
   ]
  },
  {
   "cell_type": "code",
   "execution_count": 32,
   "metadata": {},
   "outputs": [],
   "source": [
    "frame.to_csv(\"predictionbase.tsv\", sep=\"\\t\")"
   ]
  },
  {
   "cell_type": "code",
   "execution_count": 27,
   "metadata": {},
   "outputs": [],
   "source": [
    "frame = frame.drop(columns=[ 'supersenser_0', 'supersenser_1', 'supersenser_2', 'supersenser_3',\n",
    "       'supersenser_4', 'supersenser_5', 'supersenser_6', 'supersenser_7',\n",
    "       'supersenser_8', 'supersenser_9'])"
   ]
  },
  {
   "cell_type": "code",
   "execution_count": 8,
   "metadata": {},
   "outputs": [],
   "source": [
    "from collections import Counter"
   ]
  },
  {
   "cell_type": "code",
   "execution_count": 31,
   "metadata": {},
   "outputs": [],
   "source": [
    "frame = frame.rename(columns={'supersenser_0.1':\"supersenser_0\", \n",
    "                              'supersenser_1.1':\"supersenser_1\", \n",
    "                              'supersenser_2.1':\"supersenser_2\",\n",
    "                              'supersenser_3.1':\"supersenser_3\",\n",
    "                              'supersenser_4.1':\"supersenser_4\",\n",
    "                              'supersenser_5.1':\"supersenser_5\",\n",
    "                              'supersenser_6.1':\"supersenser_6\",\n",
    "                              'supersenser_7.1':'supersenser_7', \n",
    "                              'supersenser_8.1':'supersenser_8',\n",
    "                               'supersenser_9.1':'supersenser_9'})"
   ]
  },
  {
   "cell_type": "code",
   "execution_count": 4,
   "metadata": {},
   "outputs": [],
   "source": [
    "data = pd.read_csv(\"gen_mlk+all.tsv\",sep=\"\\t\")"
   ]
  },
  {
   "cell_type": "code",
   "execution_count": 35,
   "metadata": {},
   "outputs": [],
   "source": [
    "frame = frame.drop(columns=[ 'supersenser_0', 'supersenser_1', 'supersenser_2', 'supersenser_3',\n",
    "       'supersenser_4', 'supersenser_5', 'supersenser_6', 'supersenser_7',\n",
    "       'supersenser_8', 'supersenser_9'])"
   ]
  },
  {
   "cell_type": "code",
   "execution_count": 10,
   "metadata": {},
   "outputs": [
    {
     "data": {
      "text/plain": [
       "Counter({'fotis1': 78,\n",
       "         'simone1': 135,\n",
       "         'merten2': 100,\n",
       "         'Simone2': 133,\n",
       "         'merten1': 100,\n",
       "         'marbach': 285,\n",
       "         'Konsens 2': 99})"
      ]
     },
     "execution_count": 10,
     "metadata": {},
     "output_type": "execute_result"
    }
   ],
   "source": [
    "Counter(data[\"quelle\"])"
   ]
  },
  {
   "cell_type": "code",
   "execution_count": 12,
   "metadata": {},
   "outputs": [
    {
     "data": {
      "text/plain": [
       "645"
      ]
     },
     "execution_count": 12,
     "metadata": {},
     "output_type": "execute_result"
    }
   ],
   "source": [
    "len(data)-285"
   ]
  }
 ],
 "metadata": {
  "kernelspec": {
   "display_name": "gpu",
   "language": "python",
   "name": "gpu"
  },
  "language_info": {
   "codemirror_mode": {
    "name": "ipython",
    "version": 3
   },
   "file_extension": ".py",
   "mimetype": "text/x-python",
   "name": "python",
   "nbconvert_exporter": "python",
   "pygments_lexer": "ipython3",
   "version": "3.8.5"
  }
 },
 "nbformat": 4,
 "nbformat_minor": 2
}
